{
 "cells": [
  {
   "cell_type": "markdown",
   "id": "f4f685dc",
   "metadata": {},
   "source": [
    "# Convert sentence to words in NLP"
   ]
  },
  {
   "cell_type": "code",
   "execution_count": 8,
   "id": "0a0ae373",
   "metadata": {},
   "outputs": [],
   "source": [
    "import nltk"
   ]
  },
  {
   "cell_type": "code",
   "execution_count": 9,
   "id": "998f0ed2",
   "metadata": {},
   "outputs": [],
   "source": [
    "sentence = \"my name is vinay garg.\""
   ]
  },
  {
   "cell_type": "markdown",
   "id": "5e2ad74b",
   "metadata": {},
   "source": [
    "# We will use word_tokenize which tokenize the sentence into the words"
   ]
  },
  {
   "cell_type": "code",
   "execution_count": 10,
   "id": "ee2efb63",
   "metadata": {},
   "outputs": [],
   "source": [
    "words = nltk.word_tokenize(sentence)"
   ]
  },
  {
   "cell_type": "code",
   "execution_count": 11,
   "id": "43623a5d",
   "metadata": {},
   "outputs": [
    {
     "data": {
      "text/plain": [
       "['my', 'name', 'is', 'vinay', 'garg', '.']"
      ]
     },
     "execution_count": 11,
     "metadata": {},
     "output_type": "execute_result"
    }
   ],
   "source": [
    "words"
   ]
  },
  {
   "cell_type": "code",
   "execution_count": 12,
   "id": "e86f4574",
   "metadata": {},
   "outputs": [
    {
     "data": {
      "text/plain": [
       "6"
      ]
     },
     "execution_count": 12,
     "metadata": {},
     "output_type": "execute_result"
    }
   ],
   "source": [
    "len(words)"
   ]
  },
  {
   "cell_type": "code",
   "execution_count": null,
   "id": "c93a529a",
   "metadata": {},
   "outputs": [],
   "source": []
  }
 ],
 "metadata": {
  "kernelspec": {
   "display_name": "Python 3",
   "language": "python",
   "name": "python3"
  },
  "language_info": {
   "codemirror_mode": {
    "name": "ipython",
    "version": 3
   },
   "file_extension": ".py",
   "mimetype": "text/x-python",
   "name": "python",
   "nbconvert_exporter": "python",
   "pygments_lexer": "ipython3",
   "version": "3.8.8"
  }
 },
 "nbformat": 4,
 "nbformat_minor": 5
}
